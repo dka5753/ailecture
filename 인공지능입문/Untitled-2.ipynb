{
 "cells": [
  {
   "cell_type": "code",
   "execution_count": 1,
   "metadata": {},
   "outputs": [
    {
     "name": "stdout",
     "output_type": "stream",
     "text": [
      "NaNs present\n",
      "non-NaN mean, std =  2.169986269563819 0.4745140140980093\n",
      "updated mean, std =  2.173269045427578 0.4629566451638146\n"
     ]
    }
   ],
   "source": [
    "#  Missing data example\n",
    "import numpy as np\n",
    "import matplotlib.pylab as plt\n",
    "\n",
    "N = 1000\n",
    "np.random.seed(73939133)\n",
    "x = np.zeros((N,4))\n",
    "x[:,0] = 5*np.random.random(N)\n",
    "x[:,1] = np.random.normal(10,1,size=N)\n",
    "x[:,2] = 3*np.random.beta(5,2,N)\n",
    "x[:,3] = 0.3*np.random.lognormal(size=N)\n",
    "\n",
    "plt.boxplot(x)\n",
    "plt.tight_layout(pad=0, w_pad=0, h_pad=0)\n",
    "plt.savefig(\"missing_box_plot.png\", dpi=300)\n",
    "plt.close()\n",
    "\n",
    "#  Make 5% of the values NaN\n",
    "i = np.random.randint(0,N, size=int(0.05*N))\n",
    "x[i,0] = np.nan\n",
    "i = np.random.randint(0,N, size=int(0.05*N))\n",
    "x[i,1] = np.nan\n",
    "i = np.random.randint(0,N, size=int(0.05*N))\n",
    "x[i,2] = np.nan\n",
    "i = np.random.randint(0,N, size=int(0.05*N))\n",
    "x[i,3] = np.nan\n",
    "\n",
    "#  Do we have NaNs in feature 2?\n",
    "if (np.isnan(x[:,2]).sum() != 0):\n",
    "    print(\"NaNs present\")\n",
    "    i = np.where(np.isnan(x[:,2]) == False)\n",
    "    z = x[i,2]\n",
    "    mn,md,s = z.mean(), np.median(z), z.std(ddof=1)\n",
    "    hh,xx = np.histogram(z, bins=40)\n",
    "    plt.bar(xx[:-1],hh, width=0.8*(xx[1]-xx[0]))\n",
    "    plt.xlabel(\"x\")\n",
    "    plt.ylabel(\"Count\")\n",
    "    plt.tight_layout(pad=0, w_pad=0, h_pad=0)\n",
    "    plt.savefig(\"missing_feature_2_plot.png\", dpi=300)\n",
    "    plt.close()\n",
    "\n",
    "    i = np.where(np.isnan(x[:,2]) == True)\n",
    "    x[i,2] = md  # replace w/median\n",
    "    \n",
    "    print(\"non-NaN mean, std = \", z.mean(), z.std(ddof=1))\n",
    "    print(\"updated mean, std = \", x[:,2].mean(), x[:,2].std(ddof=1))\n",
    "\n",
    "    hh,xx = np.histogram(x[:,2], bins=40)\n",
    "    plt.bar(xx[:-1],hh, width=0.8*(xx[1]-xx[0]))\n",
    "    plt.xlabel(\"x\")\n",
    "    plt.ylabel(\"Count\")\n",
    "    plt.tight_layout(pad=0, w_pad=0, h_pad=0)\n",
    "    plt.savefig(\"missing_feature_2_updated_plot.png\", dpi=300)\n",
    "    plt.close()\n",
    "\n",
    "#  Do the same to the others\n",
    "i = np.where(np.isnan(x[:,0]) == False)\n",
    "m = np.median(x[i,0])\n",
    "i = np.where(np.isnan(x[:,0]) == True)\n",
    "x[i,0] = m\n",
    "\n",
    "i = np.where(np.isnan(x[:,1]) == False)\n",
    "m = np.median(x[i,1])\n",
    "i = np.where(np.isnan(x[:,1]) == True)\n",
    "x[i,1] = m\n",
    "\n",
    "i = np.where(np.isnan(x[:,3]) == False)\n",
    "m = np.median(x[i,3])\n",
    "i = np.where(np.isnan(x[:,3]) == True)\n",
    "x[i,3] = m\n",
    "\n",
    "plt.boxplot(x)\n",
    "plt.tight_layout(pad=0, w_pad=0, h_pad=0)\n",
    "plt.savefig(\"missing_updated_box_plot.png\", dpi=300)\n",
    "plt.close()\n",
    "\n"
   ]
  },
  {
   "cell_type": "code",
   "execution_count": 2,
   "metadata": {},
   "outputs": [
    {
     "data": {
      "text/plain": [
       "array([[ 2.83604023, 10.52942209,  2.2369817 ,  0.21143357],\n",
       "       [ 3.04706851,  9.82936105,  2.88220243,  0.34358252],\n",
       "       [ 1.02800726, 10.60438221,  1.59324889,  0.27661762],\n",
       "       ...,\n",
       "       [ 2.4726293 ,  9.86612558,  1.19682112,  0.24538865],\n",
       "       [ 1.00335458, 10.04072332,  2.42090293,  0.11283581],\n",
       "       [ 2.52480403,  9.46475265,  2.38248343,  1.11352524]])"
      ]
     },
     "execution_count": 2,
     "metadata": {},
     "output_type": "execute_result"
    }
   ],
   "source": [
    "x"
   ]
  },
  {
   "cell_type": "code",
   "execution_count": 3,
   "metadata": {},
   "outputs": [
    {
     "data": {
      "text/plain": [
       "array([[False, False, False, False],\n",
       "       [False, False, False, False],\n",
       "       [False, False, False, False],\n",
       "       ...,\n",
       "       [False, False, False, False],\n",
       "       [False, False, False, False],\n",
       "       [False, False, False, False]])"
      ]
     },
     "execution_count": 3,
     "metadata": {},
     "output_type": "execute_result"
    }
   ],
   "source": [
    "np.isnan(x)"
   ]
  }
 ],
 "metadata": {
  "kernelspec": {
   "display_name": "base",
   "language": "python",
   "name": "python3"
  },
  "language_info": {
   "codemirror_mode": {
    "name": "ipython",
    "version": 3
   },
   "file_extension": ".py",
   "mimetype": "text/x-python",
   "name": "python",
   "nbconvert_exporter": "python",
   "pygments_lexer": "ipython3",
   "version": "3.11.7"
  }
 },
 "nbformat": 4,
 "nbformat_minor": 2
}
